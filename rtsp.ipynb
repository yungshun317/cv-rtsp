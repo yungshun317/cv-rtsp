{
 "cells": [
  {
   "cell_type": "code",
   "execution_count": 27,
   "id": "62951b6c-44b4-4616-931f-00cede1825a8",
   "metadata": {},
   "outputs": [],
   "source": [
    "import cv2, base64, time\n",
    "from IPython.display import clear_output, Image, display, HTML"
   ]
  },
  {
   "cell_type": "code",
   "execution_count": 29,
   "id": "6f6c848a-cf1f-4a25-afe6-7babaa2770d1",
   "metadata": {},
   "outputs": [
    {
     "name": "stderr",
     "output_type": "stream",
     "text": [
      "[h264 @ 0x2ceba40] co located POCs unavailable\n"
     ]
    },
    {
     "data": {
      "text/plain": [
       "None"
      ]
     },
     "metadata": {},
     "output_type": "display_data"
    },
    {
     "name": "stderr",
     "output_type": "stream",
     "text": [
      "[h264 @ 0x332bfc0] co located POCs unavailable\n",
      "[h264 @ 0x41d3940] co located POCs unavailable\n"
     ]
    }
   ],
   "source": [
    "rtsp = \"rtsp://localhost:8554/stream\"\n",
    "\n",
    "cam_0 = cv2.VideoCapture(rtsp)\n",
    "display_handle=display(None, display_id=True)\n",
    "\n",
    "last_save_time = -10\n",
    "\n",
    "try:\n",
    "    while cam_0.isOpened():\n",
    "        # clear_output(wait=True)\n",
    "        ret_0, frame_0 = cam_0.read()\n",
    "    \n",
    "        if not ret_0:\n",
    "            print(\"Can't receive frame (stream end?). Exit...\")\n",
    "            break\n",
    "\n",
    "        # Resize        \n",
    "        height_0, width_0, channels_0 = frame_0.shape\n",
    "        frame_0 = cv2.resize(frame_0, (int(width_0/4), int(height_0/4)))\n",
    "\n",
    "        # Record\n",
    "        current_time = time.time()\n",
    "        if current_time - last_save_time > 10:\n",
    "            last_save_time = current_time\n",
    "            timestr = time.strftime(\"%Y_%m_%d__%H_%M_%S\")\n",
    "            out = cv2.VideoWriter(\"videos/\" + timestr + \".avi\", cv2.VideoWriter_fourcc('M', 'J', 'P', 'G'), 25, (int(width_0/4), int(height_0/4)))\n",
    "        out.write(frame_0)\n",
    "        \n",
    "        # For displaying in a Jupyter notebook\n",
    "        ret_0, frame_0 = cv2.imencode(\".jpeg\", frame_0)\n",
    " \n",
    "        display_handle.update(Image(data=frame_0.tobytes()))               \n",
    "except KeyboardInterrupt:\n",
    "    pass\n",
    "finally:\n",
    "    cam_0.release()\n",
    "    display_handle.update(None)"
   ]
  },
  {
   "cell_type": "code",
   "execution_count": 15,
   "id": "2e901964-0390-4fe3-850f-8cfe853e59e6",
   "metadata": {},
   "outputs": [
    {
     "data": {
      "text/plain": [
       "['rtsp://localhost:8554/stream',\n",
       " 'rtsp://localhost:8554/stream',\n",
       " 'rtsp://localhost:8554/stream',\n",
       " 'rtsp://localhost:8554/stream',\n",
       " 'rtsp://localhost:8554/stream',\n",
       " 'rtsp://localhost:8554/stream',\n",
       " 'rtsp://localhost:8554/stream',\n",
       " 'rtsp://localhost:8554/stream']"
      ]
     },
     "execution_count": 15,
     "metadata": {},
     "output_type": "execute_result"
    }
   ],
   "source": [
    "rtsp = [\"rtsp://localhost:8554/stream\"] * 8\n",
    "rtsp"
   ]
  },
  {
   "cell_type": "code",
   "execution_count": 17,
   "id": "7f38204c-4e3f-4dba-8eaf-3bdf0d29203f",
   "metadata": {},
   "outputs": [
    {
     "data": {
      "text/plain": [
       "['frame_0',\n",
       " 'frame_1',\n",
       " 'frame_2',\n",
       " 'frame_3',\n",
       " 'frame_4',\n",
       " 'frame_5',\n",
       " 'frame_6',\n",
       " 'frame_7']"
      ]
     },
     "execution_count": 17,
     "metadata": {},
     "output_type": "execute_result"
    }
   ],
   "source": [
    "frame_titles = [\"frame_\" + str(i) for i in range(8)]\n",
    "frame_titles"
   ]
  },
  {
   "cell_type": "code",
   "execution_count": null,
   "id": "a735a195-9b74-4335-8f84-5d1cb1128309",
   "metadata": {},
   "outputs": [],
   "source": []
  }
 ],
 "metadata": {
  "kernelspec": {
   "display_name": "Python 3 (ipykernel)",
   "language": "python",
   "name": "python3"
  },
  "language_info": {
   "codemirror_mode": {
    "name": "ipython",
    "version": 3
   },
   "file_extension": ".py",
   "mimetype": "text/x-python",
   "name": "python",
   "nbconvert_exporter": "python",
   "pygments_lexer": "ipython3",
   "version": "3.12.3"
  }
 },
 "nbformat": 4,
 "nbformat_minor": 5
}
