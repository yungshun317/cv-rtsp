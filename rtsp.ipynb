{
 "cells": [
  {
   "cell_type": "code",
   "execution_count": 7,
   "id": "62951b6c-44b4-4616-931f-00cede1825a8",
   "metadata": {},
   "outputs": [],
   "source": [
    "import cv2, base64\n",
    "from IPython.display import clear_output, Image, display, HTML"
   ]
  },
  {
   "cell_type": "code",
   "execution_count": 8,
   "id": "6f6c848a-cf1f-4a25-afe6-7babaa2770d1",
   "metadata": {},
   "outputs": [
    {
     "name": "stderr",
     "output_type": "stream",
     "text": [
      "[h264 @ 0x4200600] co located POCs unavailable\n"
     ]
    },
    {
     "data": {
      "text/plain": [
       "None"
      ]
     },
     "metadata": {},
     "output_type": "display_data"
    },
    {
     "name": "stderr",
     "output_type": "stream",
     "text": [
      "[h264 @ 0x3331380] co located POCs unavailable\n"
     ]
    }
   ],
   "source": [
    "rtsp = \"rtsp://localhost:8554/stream\"\n",
    "\n",
    "cam_0 = cv2.VideoCapture(rtsp)\n",
    "display_handle=display(None, display_id=True)\n",
    "\n",
    "try:\n",
    "    while cam_0.isOpened():\n",
    "        # clear_output(wait=True)\n",
    "        ret_0, frame_0 = cam_0.read()\n",
    "    \n",
    "        if not ret_0:\n",
    "            print(\"Can't receive frame (stream end?). Exit...\")\n",
    "            break\n",
    "    \n",
    "        # For displaying in a Jupyter notebook\n",
    "        ret_0, frame_0 = cv2.imencode(\".jpeg\", frame_0)\n",
    "        # rows_0, columns_0, _ = frame_0.shape\n",
    "        # frame_0 = cv2.resize(frame_0, (int(columns_0/4), int(rows_0/4)))\n",
    "        display_handle.update(Image(data=frame_0.tobytes()))               \n",
    "except KeyboardInterrupt:\n",
    "    pass\n",
    "finally:\n",
    "    cam_0.release()\n",
    "    display_handle.update(None)"
   ]
  },
  {
   "cell_type": "code",
   "execution_count": null,
   "id": "2e901964-0390-4fe3-850f-8cfe853e59e6",
   "metadata": {},
   "outputs": [],
   "source": []
  }
 ],
 "metadata": {
  "kernelspec": {
   "display_name": "Python 3 (ipykernel)",
   "language": "python",
   "name": "python3"
  },
  "language_info": {
   "codemirror_mode": {
    "name": "ipython",
    "version": 3
   },
   "file_extension": ".py",
   "mimetype": "text/x-python",
   "name": "python",
   "nbconvert_exporter": "python",
   "pygments_lexer": "ipython3",
   "version": "3.12.3"
  }
 },
 "nbformat": 4,
 "nbformat_minor": 5
}
