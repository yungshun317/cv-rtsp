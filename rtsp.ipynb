{
 "cells": [
  {
   "cell_type": "code",
   "execution_count": 1,
   "id": "62951b6c-44b4-4616-931f-00cede1825a8",
   "metadata": {},
   "outputs": [],
   "source": [
    "import cv2, base64, time\n",
    "from IPython.display import clear_output, Image, display, HTML"
   ]
  },
  {
   "cell_type": "code",
   "execution_count": 35,
   "id": "6f6c848a-cf1f-4a25-afe6-7babaa2770d1",
   "metadata": {},
   "outputs": [
    {
     "name": "stderr",
     "output_type": "stream",
     "text": [
      "[h264 @ 0x41549c0] co located POCs unavailable\n"
     ]
    },
    {
     "data": {
      "text/plain": [
       "None"
      ]
     },
     "metadata": {},
     "output_type": "display_data"
    },
    {
     "name": "stderr",
     "output_type": "stream",
     "text": [
      "[h264 @ 0x4168f80] co located POCs unavailable\n",
      "[h264 @ 0x40e6280] co located POCs unavailable\n"
     ]
    }
   ],
   "source": [
    "rtsp = \"rtsp://localhost:8554/stream\"\n",
    "\n",
    "cam_0 = cv2.VideoCapture(rtsp)\n",
    "display_handle=display(None, display_id=True)\n",
    "\n",
    "last_save_time = -10\n",
    "\n",
    "try:\n",
    "    while cam_0.isOpened():\n",
    "        # clear_output(wait=True)\n",
    "        ret_0, frame_0 = cam_0.read()\n",
    "    \n",
    "        if not ret_0:\n",
    "            print(\"Can't receive frame (stream end?). Exit...\")\n",
    "            break\n",
    "\n",
    "        # Resize        \n",
    "        height_0, width_0, channels_0 = frame_0.shape\n",
    "        new_size = (int(width_0/4), int(height_0/4))\n",
    "        frame_0 = cv2.resize(frame_0, new_size)\n",
    "\n",
    "        # Record\n",
    "        # current_time = time.time()\n",
    "        # if current_time - last_save_time > 10:\n",
    "        #     last_save_time = current_time\n",
    "        #     timestr = time.strftime(\"%Y_%m_%d__%H_%M_%S\")\n",
    "        #     out = cv2.VideoWriter(\"videos/\" + timestr + \".avi\", cv2.VideoWriter_fourcc('M', 'J', 'P', 'G'), 25, new_size)\n",
    "        # out.write(frame_0)\n",
    "        \n",
    "        # For displaying in a Jupyter notebook\n",
    "        ret_0, frame_0 = cv2.imencode(\".jpeg\", frame_0)\n",
    " \n",
    "        display_handle.update(Image(data=frame_0.tobytes()))               \n",
    "except KeyboardInterrupt:\n",
    "    pass\n",
    "finally:\n",
    "    cam_0.release()\n",
    "    display_handle.update(None)"
   ]
  },
  {
   "cell_type": "code",
   "execution_count": null,
   "id": "2970ef00-896c-477e-80db-400f478ebe70",
   "metadata": {},
   "outputs": [],
   "source": []
  }
 ],
 "metadata": {
  "kernelspec": {
   "display_name": "Python 3 (ipykernel)",
   "language": "python",
   "name": "python3"
  },
  "language_info": {
   "codemirror_mode": {
    "name": "ipython",
    "version": 3
   },
   "file_extension": ".py",
   "mimetype": "text/x-python",
   "name": "python",
   "nbconvert_exporter": "python",
   "pygments_lexer": "ipython3",
   "version": "3.10.14"
  }
 },
 "nbformat": 4,
 "nbformat_minor": 5
}
